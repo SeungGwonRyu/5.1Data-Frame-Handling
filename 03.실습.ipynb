{
 "cells": [
  {
   "cell_type": "code",
   "execution_count": null,
   "metadata": {},
   "outputs": [],
   "source": [
    "'''실습 설명\n",
    "이번에는 DataFrame에서 한 줄을 찾는 연습을 해보겠습니다.\n",
    "JTBC의 시청률을 확인하려면 어떻게 해야 할까요?\n",
    "실습 결과\n",
    "2011    7.380\n",
    "2012    7.878\n",
    "2013    7.810\n",
    "2014    7.490\n",
    "2015    7.267\n",
    "2016    7.727\n",
    "2017    9.453\n",
    "Name: JTBC, dtype: float64\n",
    "'''"
   ]
  },
  {
   "cell_type": "code",
   "execution_count": null,
   "metadata": {},
   "outputs": [],
   "source": [
    "import pandas as pd\n",
    "\n",
    "df = pd.read_csv('data/broadcast.csv', index_col=0)\n",
    "# 여기에 코드를 작성하세요\n",
    "df.loc[:,'JTBC']\n",
    "df.loc['JTBC']\n",
    "\n",
    "# 한 Column에 대한 인덱싱\n",
    "# df[colunm]"
   ]
  }
 ],
 "metadata": {
  "language_info": {
   "name": "python"
  },
  "orig_nbformat": 4
 },
 "nbformat": 4,
 "nbformat_minor": 2
}
