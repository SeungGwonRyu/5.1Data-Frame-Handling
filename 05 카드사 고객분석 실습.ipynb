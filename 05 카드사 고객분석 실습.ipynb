{
 "cells": [
  {
   "cell_type": "code",
   "execution_count": null,
   "metadata": {},
   "outputs": [],
   "source": [
    "'''데이터의 중요성을 깨달은 “삼송카드”와 “현디카드”가 협업을 하기로 결정했습니다.\n",
    "두 카드사는 사람들이 요일별로 지출하는 평균 금액을 “요일”, “식비\", “교통비”, “문화생활비”, “기타” 카테고리로 정리해서 우리에게 공유해 주기로 했는데요. 각각 samsong.csv 파일과 hyundee.csv 파일을 보냈습니다.\n",
    "두 회사의 데이터를 활용해서, 사람들의 요일별 문화생활비를 분석해보려 합니다. 아래와 같은 형태로 출력이 되도록 DataFrame을 만들어보세요.\n",
    "'''"
   ]
  },
  {
   "cell_type": "code",
   "execution_count": null,
   "metadata": {},
   "outputs": [],
   "source": [
    "import pandas as pd\n",
    "\n",
    "samsong_df = pd.read_csv('data/samsong.csv')\n",
    "hyundee_df = pd.read_csv('data/hyundee.csv')\n",
    "\n",
    "df = pd.DataFrame({\n",
    "    'day' : samsong_df['요일'],\n",
    "    'samsong' : samsong_df['문화생활비'],\n",
    "    'hyundee' : hyundee_df['문화생활비']\n",
    "})\n",
    "df"
   ]
  }
 ],
 "metadata": {
  "language_info": {
   "name": "python"
  },
  "orig_nbformat": 4
 },
 "nbformat": 4,
 "nbformat_minor": 2
}
