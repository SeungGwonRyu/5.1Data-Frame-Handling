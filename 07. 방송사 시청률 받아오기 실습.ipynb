{
 "cells": [
  {
   "cell_type": "code",
   "execution_count": null,
   "metadata": {},
   "outputs": [],
   "source": [
    "import pandas as pd\n",
    "\n",
    "df = pd.read_csv('data/broadcast.csv', index_col=0)\n",
    "# 여기에 코드를 작성하세요\n",
    "\n",
    "df_kbs_mbc_sbs = df.loc['2012':'2017', 'KBS':'SBS']\n",
    "df_kbs_mbc_sbs"
   ]
  }
 ],
 "metadata": {
  "kernelspec": {
   "display_name": "Python 3",
   "language": "python",
   "name": "python3"
  },
  "language_info": {
   "name": "python",
   "version": "3.11.3"
  },
  "orig_nbformat": 4
 },
 "nbformat": 4,
 "nbformat_minor": 2
}
